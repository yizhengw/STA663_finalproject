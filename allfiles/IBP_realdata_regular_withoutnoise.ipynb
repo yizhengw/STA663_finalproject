{
 "cells": [
  {
   "cell_type": "code",
   "execution_count": 1,
   "metadata": {
    "collapsed": true
   },
   "outputs": [],
   "source": [
    "#load library\n",
    "import os\n",
    "import sys\n",
    "import glob\n",
    "import matplotlib.pyplot as plt\n",
    "import numpy as np\n",
    "import pandas as pd\n",
    "import scipy.stats as stats\n",
    "import warnings\n",
    "warnings.filterwarnings('ignore')\n",
    "from fractions import Fraction\n",
    "import os\n",
    "import numpy as np\n",
    "import matplotlib.pyplot as plt\n",
    "import matplotlib.image as mpimg\n",
    "from scipy.misc import toimage\n",
    "from numba import jit\n",
    "import timeit\n",
    "from numba import vectorize, int64, float64,guvectorize"
   ]
  },
  {
   "cell_type": "code",
   "execution_count": 2,
   "metadata": {
    "collapsed": true
   },
   "outputs": [],
   "source": [
    "#this function is the main solver for the indian buffet\n",
    "#input: N is the number of the objects, and alpha is any integer\n",
    "#output: Z is the binary matrix, K is the number of features (prior)\n",
    "def IBP( N,alpha ):\n",
    "    #Generate initial number of features from a Poisson\n",
    "    n_init = np.random.poisson(alpha,1)\n",
    "    Z = np.zeros(shape=(N,n_init))\n",
    "    Z[0,:] = 1\n",
    "    m = np.sum(Z,0)\n",
    "    K = n_init\n",
    "    for i in range(1,N):\n",
    "        #Calculate probability of visiting past dishes\n",
    "        prob = m/(i+1)\n",
    "        index = np.greater(prob,np.random.rand(1,K))\n",
    "        Z[i,:] = index.astype(int);\n",
    "        #Calculate the number of new dishes visited by customer i\n",
    "        knew = np.random.poisson(alpha/(i+1),1)\n",
    "        Z=np.concatenate((Z,np.zeros(shape=(N,knew))), axis=1)\n",
    "        Z[i,K:K+knew:1] = 1\n",
    "        #Update matrix size and number of features \n",
    "        K = K+knew\n",
    "        m = sum(Z,0)\n",
    "    return Z, K"
   ]
  },
  {
   "cell_type": "code",
   "execution_count": 3,
   "metadata": {
    "collapsed": true
   },
   "outputs": [],
   "source": [
    "dimension = 625\n",
    "objects = 100\n",
    "feature = 1\n",
    "paperImagesetting=25"
   ]
  },
  {
   "cell_type": "code",
   "execution_count": 4,
   "metadata": {
    "collapsed": true
   },
   "outputs": [],
   "source": [
    "img=mpimg.imread('dukeii.png')\n",
    "merged_total=[]\n",
    "aaa=img[:,:,3]\n",
    "for i in range(len(aaa)):\n",
    "    temp=aaa[i].tolist()\n",
    "    merged_total=merged_total+temp \n",
    "\n"
   ]
  },
  {
   "cell_type": "code",
   "execution_count": 5,
   "metadata": {
    "collapsed": false
   },
   "outputs": [],
   "source": [
    "ccc=np.round(merged_total)\n",
    "pppp=np.array(ccc).reshape(25,25)"
   ]
  },
  {
   "cell_type": "code",
   "execution_count": 6,
   "metadata": {
    "collapsed": false
   },
   "outputs": [],
   "source": [
    "basis_4=np.array([pppp])"
   ]
  },
  {
   "cell_type": "code",
   "execution_count": 7,
   "metadata": {
    "collapsed": false
   },
   "outputs": [
    {
     "data": {
      "image/png": "[encoded data removed]",
      "text/plain": [
       "<matplotlib.figure.Figure at 0x1187734a8>"
      ]
     },
     "metadata": {},
     "output_type": "display_data"
    }
   ],
   "source": [
    "#plot the basis\n",
    "fig = plt.figure(figsize=(12,3)) \n",
    "fig1 = fig.add_subplot(141)\n",
    "fig1.pcolormesh(pppp.reshape(25,25),cmap=plt.cm.gray)  \n",
    "plt.show()\n",
    "fig.savefig('original_plots_duke_regular_without_noise.png')"
   ]
  },
  {
   "cell_type": "code",
   "execution_count": 8,
   "metadata": {
    "collapsed": false
   },
   "outputs": [],
   "source": [
    "A = np.array([pppp.reshape(dimension)])"
   ]
  },
  {
   "cell_type": "code",
   "execution_count": 9,
   "metadata": {
    "collapsed": true
   },
   "outputs": [],
   "source": [
    "SimulatedImage = np.zeros((objects,paperImagesetting,paperImagesetting)) \n",
    "coef = stats.bernoulli.rvs(0.5,size=(objects,feature))\n",
    "noise = stats.norm.rvs(loc=0,scale=0.5,size = (objects,paperImagesetting,paperImagesetting))"
   ]
  },
  {
   "cell_type": "code",
   "execution_count": 10,
   "metadata": {
    "collapsed": true
   },
   "outputs": [],
   "source": [
    "def simulated_image(objects,basis_4,coef,noise,paperImagesetting):\n",
    "    SimulatedImage = np.zeros((objects,paperImagesetting,paperImagesetting))\n",
    "    for i in range(objects):\n",
    "        for j in range(feature):\n",
    "            SimulatedImage[i,:,:]+=coef[i,j]*basis_4[j,:,:]\n",
    "        SimulatedImage[i,:,:]+= noise[i,:,:]\n",
    "    return SimulatedImage"
   ]
  },
  {
   "cell_type": "code",
   "execution_count": 11,
   "metadata": {
    "collapsed": false
   },
   "outputs": [],
   "source": [
    "SimulatedImage=simulated_image(objects,basis_4,coef,noise,paperImagesetting)"
   ]
  },
  {
   "cell_type": "code",
   "execution_count": 28,
   "metadata": {
    "collapsed": true
   },
   "outputs": [],
   "source": [
    "fig=plt.figure(figsize=(12,3))\n",
    "fig1 = fig.add_subplot(141)\n",
    "fig1.pcolormesh(SimulatedImage[65],cmap=plt.cm.gray)\n",
    "fig1 = fig.add_subplot(142)\n",
    "fig1.pcolormesh(SimulatedImage[70],cmap=plt.cm.gray)\n",
    "fig1 = fig.add_subplot(143)\n",
    "fig1.pcolormesh(SimulatedImage[60],cmap=plt.cm.gray)\n",
    "fig1 = fig.add_subplot(144)\n",
    "fig1.pcolormesh(SimulatedImage[67],cmap=plt.cm.gray)\n",
    "fig.savefig('simulation_duke_regular_withoutnoise.png')\n"
   ]
  },
  {
   "cell_type": "code",
   "execution_count": 13,
   "metadata": {
    "collapsed": true
   },
   "outputs": [],
   "source": [
    "sA = 1.2\n",
    "sX = 1.7\n",
    "alpha=1"
   ]
  },
  {
   "cell_type": "code",
   "execution_count": 14,
   "metadata": {
    "collapsed": true
   },
   "outputs": [],
   "source": [
    "Z,K=IBP(objects,alpha)"
   ]
  },
  {
   "cell_type": "code",
   "execution_count": 15,
   "metadata": {
    "collapsed": true
   },
   "outputs": [],
   "source": [
    "iteration = 300\n",
    "Z_mcmc= np.zeros((iteration,objects,1000))\n",
    "K_mcmc = np.zeros(iteration)\n",
    "sX_mcmc = np.zeros(iteration)\n",
    "sA_mcmc = np.zeros(iteration)\n",
    "alpha_mcmc = np.zeros(iteration)\n",
    "ratioX = 0\n",
    "ratioA = 0"
   ]
  },
  {
   "cell_type": "code",
   "execution_count": 16,
   "metadata": {
    "collapsed": true
   },
   "outputs": [],
   "source": [
    "X = np.zeros((objects,dimension))\n",
    "Z0= np.zeros((objects,feature))"
   ]
  },
  {
   "cell_type": "code",
   "execution_count": 17,
   "metadata": {
    "collapsed": true
   },
   "outputs": [],
   "source": [
    "HN = 0\n",
    "for i in range(objects):\n",
    "    HN+=1/(i+1)"
   ]
  },
  {
   "cell_type": "code",
   "execution_count": 18,
   "metadata": {
    "collapsed": true
   },
   "outputs": [],
   "source": [
    "sX0=0.5"
   ]
  },
  {
   "cell_type": "code",
   "execution_count": 19,
   "metadata": {
    "collapsed": true
   },
   "outputs": [],
   "source": [
    "def samplex(objects,sX0,dimension,Z0):\n",
    "    X = np.zeros((objects,dimension))\n",
    "    for i in range(objects):\n",
    "        while True:\n",
    "            pp=np.round(stats.uniform.rvs(loc=0,scale=1,size=feature)).astype(int)\n",
    "            if np.sum(pp)!=0:\n",
    "                Z0[i,:] =pp\n",
    "                break\n",
    "        X[i,:] =  np.dot(Z0[i,:],A)+np.random.normal(size=dimension)*sX0\n",
    "    return X"
   ]
  },
  {
   "cell_type": "code",
   "execution_count": 20,
   "metadata": {
    "collapsed": true
   },
   "outputs": [],
   "source": [
    "X=samplex(objects,sX0,dimension,Z0)"
   ]
  },
  {
   "cell_type": "code",
   "execution_count": 21,
   "metadata": {
    "collapsed": true
   },
   "outputs": [],
   "source": [
    "def calcM(Z,Kplus,sigmaX,sigmaA):\n",
    "    return np.linalg.inv(np.dot(Z[:,0:Kplus].T,Z[:,0:Kplus])+((sigmaX/sigmaA)**2)*np.identity(Kplus))\n",
    "def calcM2(Z,Kplus,kterm,sigmaX,sigmaA):\n",
    "    return np.linalg.inv(np.dot(Z[:,0:Kplus+kterm].T,Z[:,0:Kplus+kterm])+((sigmaX/sigmaA)**2)*np.identity(Kplus+kterm))\n",
    "def log_likelihood(X,Z,M,sigmaA,sigmaX,Kplus,N,D):  \n",
    "    determinant = np.linalg.det(np.dot(Z.T,Z)+((sigmaX/sigmaA)**2)*np.identity(Kplus))\n",
    "    constant = N*D*0.5*np.log(2*np.pi) + (N-Kplus)*D*np.log(sigmaX) + Kplus*D*np.log(sigmaA) + D*0.5*np.log(determinant)\n",
    "    middle = np.identity(N) - np.dot(np.dot(Z, M),Z.T)\n",
    "    trace = np.trace(np.dot(np.dot(X.T,middle),X))\n",
    "    kernel = -0.5*np.reciprocal(sigmaX**2)*trace\n",
    "    log_lik = -constant + kernel\n",
    "    return log_lik"
   ]
  },
  {
   "cell_type": "code",
   "execution_count": 22,
   "metadata": {
    "collapsed": true
   },
   "outputs": [],
   "source": [
    "#this function is the mainsolver for detail description of each step, please refer the IBP_mainsolver_regular.py\n",
    "def mainsolver(iteration,Z,alpha,K,sX,sA,ratioX = 0,ratioA = 0): \n",
    "    Z_mcmc= np.zeros((iteration,objects,1000))\n",
    "    K_mcmc = np.zeros(iteration)\n",
    "    sX_mcmc = np.zeros(iteration)\n",
    "    sA_mcmc = np.zeros(iteration)\n",
    "    alpha_mcmc = np.zeros(iteration)\n",
    "    for it in range(iteration):\n",
    "        alpha_mcmc[it] = alpha\n",
    "        sX_mcmc[it] = sX\n",
    "        sA_mcmc[it] = sA\n",
    "        Z_mcmc[it,:,0:K] = Z[:,0:K]\n",
    "        K_mcmc[it] = K\n",
    "        for i in range(objects):\n",
    "            for k in range(K):\n",
    "                if k+1>K:\n",
    "                    break\n",
    "                if Z[i,k]>0:\n",
    "                    if np.sum(Z[:,k])-Z[i,k]<=0:\n",
    "                        Z[:,k:(K-1)] = Z[:,(k+1):K]\n",
    "                        K -= 1\n",
    "                        continue\n",
    "                Z[i,k] = 1\n",
    "                M1 = calcM(Z,K,sX,sA) \n",
    "                posterior = np.zeros(2)\n",
    "                posterior[1] = np.log(sum(Z[:,k])-Z[i,k]) - np.log(objects)+log_likelihood(X,Z[:,0:K],M1,sA,sX,K,objects,dimension) \n",
    "                Z[i,k] = 0\n",
    "                M0 = calcM(Z,K,sX,sA) \n",
    "                posterior[0] = np.log(objects-sum(Z[:,k])) - np.log(objects)+log_likelihood(X,Z[:,0:K],M0,sA,sX,K,objects,dimension) \n",
    "                posterior = np.exp(posterior - max(posterior))\n",
    "                p = stats.uniform.rvs(0,1,1)           \n",
    "                if p < posterior[0]/(posterior[0]+posterior[1]):\n",
    "                    Z[i,k] = 0\n",
    "                else:\n",
    "                    Z[i,k] = 1\n",
    "            sele=np.zeros(feature)\n",
    "            alphan=alpha/objects\n",
    "            for k_i in range(1):\n",
    "                if k_i > 0:\n",
    "                    temp = np.zeros((objects,k_i))\n",
    "                    temp[i,:] = 1\n",
    "                    Z = np.hstack((Z[:,0:K],temp))\n",
    "                M = calcM2(Z,K,k_i,sX,sA)\n",
    "                sele[k_i] = log_likelihood(X,Z[:,0:(K+k_i)],M,sA,sX,K+k_i,objects,dimension)+(k_i)*np.log(alphan) - alphan - np.log(np.math.factorial(k_i)) \n",
    "            Z[i,K:(K+3)] = 0\n",
    "            sele = np.exp(sele-max(sele))\n",
    "            sele=sele/np.sum(sele)\n",
    "            t = 0\n",
    "            for ki in range(1):\n",
    "                t += sele[ki]\n",
    "                if p < t:\n",
    "                    ff1 = ki\n",
    "                    break\n",
    "            Z[i,K:(K+ff1)] = 1\n",
    "            K += ff1\n",
    "        M=calcM(Z,K,sX,sA)\n",
    "        l1=log_likelihood(X, Z[:,0:K], M, sA, sX, K, objects, dimension)\n",
    "        if p<0.5:\n",
    "            pppsX = sX - p/20\n",
    "        else:\n",
    "            pppsX = sX + p/20\n",
    "        M_X = calcM(Z, K, pppsX, sA)\n",
    "        l2=log_likelihood(X, Z[:,0:K], M_X, sA, pppsX, K, objects, dimension)\n",
    "        acc_X = np.exp(min(0, l2-l1))\n",
    "        if p<0.5:\n",
    "            pppsA = sA - p/20\n",
    "        else:\n",
    "            pppsA = sA + p/20\n",
    "        M_A = calcM(Z, K, sX, pppsA)\n",
    "        l3=log_likelihood(X, Z[:,0:K], M_A, pppsA, sX, K, objects, dimension)\n",
    "        acc_A = np.exp(min(0, l3-l1)) \n",
    "        if p < acc_X:\n",
    "            sX = pppsX\n",
    "            ratioX += 1\n",
    "        if p < acc_A:\n",
    "            sA = pppsA\n",
    "            ratioA += 1\n",
    "        alpha = stats.gamma.rvs(a = 1+K, loc = 0, scale = np.reciprocal(1+HN),size=1)[0]   \n",
    "    return Z_mcmc, K_mcmc,sX_mcmc,sA_mcmc,alpha_mcmc"
   ]
  },
  {
   "cell_type": "code",
   "execution_count": 23,
   "metadata": {
    "collapsed": false
   },
   "outputs": [],
   "source": [
    "Z_mcmc, K_mcmc,sX_mcmc,sA_mcmc,alpha_mcmc=mainsolver(iteration,Z,alpha,K,sX,sA)"
   ]
  },
  {
   "cell_type": "code",
   "execution_count": 30,
   "metadata": {
    "collapsed": false
   },
   "outputs": [
    {
     "data": {
      "image/png": "[encoded data removed]",
      "text/plain": [
       "<matplotlib.figure.Figure at 0x11c04b748>"
      ]
     },
     "metadata": {},
     "output_type": "display_data"
    }
   ],
   "source": [
    "fig = plt.figure(figsize=(8,8))\n",
    "fig1 = fig.add_subplot(411)\n",
    "fig1.plot(K_mcmc)\n",
    "fig1.set_ylabel('K')\n",
    "fig2 = fig.add_subplot(412)\n",
    "fig2.plot(alpha_mcmc)\n",
    "fig2.set_ylabel('alpha')\n",
    "fig3 = fig.add_subplot(413)\n",
    "fig3.plot(sX_mcmc)\n",
    "fig3.set_ylabel('sX')\n",
    "fig4 = fig.add_subplot(414)\n",
    "fig4.plot(sA_mcmc)\n",
    "fig4.set_ylabel('sA')\n",
    "fig4.set_xlabel('Iteration')\n",
    "fig.savefig('mcmc_result_real_duke_without_noise.png')\n",
    "plt.show()"
   ]
  },
  {
   "cell_type": "code",
   "execution_count": 25,
   "metadata": {
    "collapsed": true
   },
   "outputs": [],
   "source": [
    "samplen=iteration-1\n",
    "Kf = K_mcmc[samplen]\n",
    "Zf = Z_mcmc[samplen,:,0:Kf].reshape(objects,Kf)\n",
    "sXf = sX_mcmc[samplen]\n",
    "sAf = sA_mcmc[samplen]\n",
    "A_inf = np.dot(np.linalg.inv(np.dot(Zf.T,Zf) +  ((sXf/sAf)**2)*np.identity(Kf)),np.dot(Zf.T,X))\n"
   ]
  },
  {
   "cell_type": "code",
   "execution_count": 27,
   "metadata": {
    "collapsed": false
   },
   "outputs": [
    {
     "data": {
      "image/png": "[encoded data removed]",
      "text/plain": [
       "<matplotlib.figure.Figure at 0x11be25588>"
      ]
     },
     "metadata": {},
     "output_type": "display_data"
    }
   ],
   "source": [
    "fig = plt.figure(figsize=(12,3))\n",
    "fig1 = fig.add_subplot(141)\n",
    "fig1.pcolormesh(A_inf[0,:].reshape(25,25),cmap=plt.cm.gray)\n",
    "fig2 = fig.add_subplot(142)\n",
    "fig2.pcolormesh(A_inf[1,:].reshape(25,25),cmap=plt.cm.gray)\n",
    "fig3 = fig.add_subplot(143)\n",
    "fig3.pcolormesh(A_inf[0,:].reshape(25,25),cmap=plt.cm.gray)\n",
    "fig4 = fig.add_subplot(144)\n",
    "fig4.pcolormesh(A_inf[1,:].reshape(25,25),cmap=plt.cm.gray)\n",
    "plt.show()\n",
    "fig.savefig(\"final_result_simple_duke_without_noise.png\")"
   ]
  },
  {
   "cell_type": "code",
   "execution_count": null,
   "metadata": {
    "collapsed": true
   },
   "outputs": [],
   "source": []
  },
  {
   "cell_type": "code",
   "execution_count": null,
   "metadata": {
    "collapsed": true
   },
   "outputs": [],
   "source": []
  },
  {
   "cell_type": "code",
   "execution_count": null,
   "metadata": {
    "collapsed": true
   },
   "outputs": [],
   "source": []
  }
 ],
 "metadata": {
  "anaconda-cloud": {},
  "kernelspec": {
   "display_name": "Python [conda root]",
   "language": "python",
   "name": "conda-root-py"
  },
  "language_info": {
   "codemirror_mode": {
    "name": "ipython",
    "version": 3
   },
   "file_extension": ".py",
   "mimetype": "text/x-python",
   "name": "python",
   "nbconvert_exporter": "python",
   "pygments_lexer": "ipython3",
   "version": "3.5.2"
  }
 },
 "nbformat": 4,
 "nbformat_minor": 2
}
